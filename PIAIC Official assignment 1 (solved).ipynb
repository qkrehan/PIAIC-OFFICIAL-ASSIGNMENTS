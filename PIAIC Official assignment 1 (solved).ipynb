{
 "cells": [
  {
   "cell_type": "markdown",
   "metadata": {},
   "source": [
    "## 1. Calculate Area of a Circle"
   ]
  },
  {
   "cell_type": "markdown",
   "metadata": {},
   "source": [
    "#### Write a Python program which accepts the radius of a circle from the user and compute the area.\n",
    "###### Program Console Sample Output 1:\n",
    "###### Input Radius: 0.5\n",
    "###### Area of Circle with radius 0.5 is 0.7853981634"
   ]
  },
  {
   "cell_type": "code",
   "execution_count": 11,
   "metadata": {},
   "outputs": [
    {
     "name": "stdout",
     "output_type": "stream",
     "text": [
      "Enter the Radius of the circle :.5\n"
     ]
    }
   ],
   "source": [
    "pi = 3.14159265359\n",
    "radius = input(\"Enter the Radius of the circle :\")"
   ]
  },
  {
   "cell_type": "code",
   "execution_count": 12,
   "metadata": {},
   "outputs": [],
   "source": [
    "area = pi*float(radius)**2"
   ]
  },
  {
   "cell_type": "code",
   "execution_count": 13,
   "metadata": {},
   "outputs": [
    {
     "name": "stdout",
     "output_type": "stream",
     "text": [
      "0.7853981633975\n"
     ]
    }
   ],
   "source": [
    "print(area)"
   ]
  },
  {
   "cell_type": "markdown",
   "metadata": {},
   "source": [
    "## 2. Check Number either positive, negative or zero"
   ]
  },
  {
   "cell_type": "markdown",
   "metadata": {},
   "source": [
    "#### Write a Python program to check if a number is positive, negative or zero\n",
    "###### Program Console Sample Output 1:\n",
    "###### Enter Number: -1\n",
    "##### Negative Number Entered\n",
    "###### Program Console Sample Output 2:\n",
    "##### Integer: 3\n",
    "##### Positive Number Entered\n",
    "###### Program Console Sample Output 3:\n",
    "##### Integer: 0\n",
    "###### Zero Entered"
   ]
  },
  {
   "cell_type": "code",
   "execution_count": 16,
   "metadata": {},
   "outputs": [
    {
     "name": "stdout",
     "output_type": "stream",
     "text": [
      "Enter the NUMBER :-1\n",
      "negative number entered\n"
     ]
    }
   ],
   "source": [
    "## program\n",
    "num = int(input(\"Enter the NUMBER :\"))\n",
    "if num == 0:\n",
    "    print(\"zero entered\")\n",
    "elif num > 0:\n",
    "    print(\"posotive number entered \")\n",
    "else :\n",
    "    print(\"negative number entered\")"
   ]
  },
  {
   "cell_type": "code",
   "execution_count": 17,
   "metadata": {},
   "outputs": [
    {
     "name": "stdout",
     "output_type": "stream",
     "text": [
      "Enter the NUMBER :3\n",
      "posotive number entered \n"
     ]
    }
   ],
   "source": [
    "num = int(input(\"Enter the NUMBER :\"))\n",
    "if num == 0:\n",
    "    print(\"zero entered\")\n",
    "elif num > 0:\n",
    "    print(\"posotive number entered \")\n",
    "else :\n",
    "    print(\"negative number entered\")"
   ]
  },
  {
   "cell_type": "code",
   "execution_count": 18,
   "metadata": {},
   "outputs": [
    {
     "name": "stdout",
     "output_type": "stream",
     "text": [
      "Enter the NUMBER :0\n",
      "zero entered\n"
     ]
    }
   ],
   "source": [
    "num = int(input(\"Enter the NUMBER :\"))\n",
    "if num == 0:\n",
    "    print(\"zero entered\")\n",
    "elif num > 0:\n",
    "    print(\"posotive number entered \")\n",
    "else :\n",
    "    print(\"negative number entered\")"
   ]
  },
  {
   "cell_type": "markdown",
   "metadata": {},
   "source": [
    "## 3. Divisibility Check of two numbers"
   ]
  },
  {
   "cell_type": "markdown",
   "metadata": {},
   "source": [
    "#### Write a Python program to check whether a number is completely divisible by another number. Accept two integer values form the user\n",
    "##### Program Console Sample Output 1:\n",
    "###### Enter numerator: 4\n",
    "###### Enter Denominator: 2\n",
    "##### Number 4 is Completely divisible by 2\n",
    "###### Program Console Sample Output 2:\n",
    "##### Enter numerator: 7\n",
    "\n",
    "##### Enter Denominator: 4\n",
    "###### Number 7 is not Completely divisible by 4"
   ]
  },
  {
   "cell_type": "code",
   "execution_count": 1,
   "metadata": {},
   "outputs": [
    {
     "name": "stdout",
     "output_type": "stream",
     "text": [
      "Enter the Numerator : 4\n",
      "Enter the Denominator : 2\n",
      " number 4 is completely divisible by 2\n"
     ]
    }
   ],
   "source": [
    "# sample 01\n",
    "num1 = int(input(\"Enter the Numerator : \"))\n",
    "num2 = int(input(\"Enter the Denominator : \"))\n",
    "if num1%num2 == 0:\n",
    "    print(f\" number {num1} is completely divisible by {num2}\")\n",
    "else :\n",
    "    print(f\"number {num1} is not completelty divisible by {num2}\")\n",
    "    "
   ]
  },
  {
   "cell_type": "code",
   "execution_count": 2,
   "metadata": {},
   "outputs": [
    {
     "name": "stdout",
     "output_type": "stream",
     "text": [
      "Enter the Numerator : 7\n",
      "Enter the Denominator : 4\n",
      "number 7 is not completelty divisible by 4\n"
     ]
    }
   ],
   "source": [
    "# sample 2\n",
    "num1 = int(input(\"Enter the Numerator : \"))\n",
    "num2 = int(input(\"Enter the Denominator : \"))\n",
    "if num1%num2 == 0:\n",
    "    print(f\" number {num1} is completely divisible by {num2}\")\n",
    "else :\n",
    "    print(f\"number {num1} is not completelty divisible by {num2}\")\n",
    "    "
   ]
  },
  {
   "cell_type": "markdown",
   "metadata": {},
   "source": [
    "## 4. Calculate Volume of a sphere"
   ]
  },
  {
   "cell_type": "markdown",
   "metadata": {},
   "source": [
    "##### Write a Python program to get the volume of a sphere, please take the radius as input from user"
   ]
  },
  {
   "cell_type": "markdown",
   "metadata": {},
   "source": [
    "##### Program Console Output:\n",
    "##### Enter Radius of Sphere: 1\n",
    "###### Volume of the Sphere with Radius 1 is 4.18"
   ]
  },
  {
   "cell_type": "code",
   "execution_count": 5,
   "metadata": {},
   "outputs": [
    {
     "name": "stdout",
     "output_type": "stream",
     "text": [
      "Enter the Radius of the circle :1\n"
     ]
    },
    {
     "data": {
      "text/plain": [
       "4.188790204786667"
      ]
     },
     "execution_count": 5,
     "metadata": {},
     "output_type": "execute_result"
    }
   ],
   "source": [
    "pi = 3.14159265359\n",
    "radius = int(input(\"Enter the Radius of the circle :\"))\n",
    "volume = (4/3)*pi*radius**2\n",
    "volume"
   ]
  },
  {
   "cell_type": "markdown",
   "metadata": {},
   "source": [
    "## 5. Copy string n times\n",
    "#### Write a Python program to get a string which is n (non-negative integer) copies of a given string.\n",
    "##### Program Console Output:\n",
    "##### Enter String: Hi\n",
    "###### How many copies of String you need: 4\n",
    "###### 4 Copies of Hi are HiHiHiHi"
   ]
  },
  {
   "cell_type": "code",
   "execution_count": 3,
   "metadata": {},
   "outputs": [
    {
     "name": "stdout",
     "output_type": "stream",
     "text": [
      "Enter the string: Hi\n",
      "Input the number: 4\n",
      "4 copies of Hi are HiHiHiHi \n"
     ]
    }
   ],
   "source": [
    "s = input(\"Enter the string: \")\n",
    "n = input(\"Input the number: \")\n",
    "\n",
    "print(f\"{n} copies of {s} are {int(n)*s} \")"
   ]
  },
  {
   "cell_type": "markdown",
   "metadata": {},
   "source": [
    "## 6. Check if number is Even or Odd\n",
    "### Write a Python program to find whether a given number (accept from the user) is even or odd, print out an appropriate message to the user\n",
    "#### Program Console Output 1:\n",
    "##### Enter Number: 4\n",
    "###### 4 is Even\n",
    "#### Program Console Output 2:\n",
    "##### Enter Number: 9\n",
    "###### 9 is Odd"
   ]
  },
  {
   "cell_type": "code",
   "execution_count": 5,
   "metadata": {},
   "outputs": [
    {
     "name": "stdout",
     "output_type": "stream",
     "text": [
      "Enter the number :4\n",
      "4 is even\n"
     ]
    }
   ],
   "source": [
    "# sample 01\n",
    "numb = int(input(\"Enter the number :\"))\n",
    "if numb%2 == 0:\n",
    "    print(f\"{numb} is even\")\n",
    "else :\n",
    "    print(f\"{numb} is odd\")"
   ]
  },
  {
   "cell_type": "code",
   "execution_count": 6,
   "metadata": {},
   "outputs": [
    {
     "name": "stdout",
     "output_type": "stream",
     "text": [
      "Enter the number :9\n",
      "9 is odd\n"
     ]
    }
   ],
   "source": [
    "# sample 02\n",
    "numb = int(input(\"Enter the number :\"))\n",
    "if numb%2 == 0:\n",
    "    print(f\"{numb} is even\")\n",
    "else :\n",
    "    print(f\"{numb} is odd\")"
   ]
  },
  {
   "cell_type": "markdown",
   "metadata": {},
   "source": [
    "## 7. Vowel Tester\n",
    "### Write a Python program to test whether a passed letter is a vowel or not\n",
    "#### Program Console Output 1:\n",
    "##### Enter a character: A\n",
    "###### Letter A is Vowel\n",
    "#### Program Console Output 2:\n",
    "##### Enter a character: e\n",
    "###### Letter e is Vowel\n",
    "#### Program Console Output 2:\n",
    "##### Enter a character: N\n",
    "###### Letter N is not Vowel"
   ]
  },
  {
   "cell_type": "code",
   "execution_count": 15,
   "metadata": {},
   "outputs": [
    {
     "name": "stdout",
     "output_type": "stream",
     "text": [
      "Enter the character:  A\n",
      "Letter A is a vowel \n"
     ]
    }
   ],
   "source": [
    "# sample 01\n",
    "char = input(\"Enter the character:  \")\n",
    "char01 = char.upper()\n",
    "if char01 == \"A\" or \"E\" or \"I\" or \"O\"or \"U\":\n",
    "    print(f\"Letter {char} is a vowel \")\n",
    "else:\n",
    "    print(f\"Letter {char} is not a vowel \")"
   ]
  },
  {
   "cell_type": "code",
   "execution_count": 16,
   "metadata": {},
   "outputs": [
    {
     "name": "stdout",
     "output_type": "stream",
     "text": [
      "Enter the character:  e\n",
      "Letter e is a vowel \n"
     ]
    }
   ],
   "source": [
    "# sample 02\n",
    "char = input(\"Enter the character:  \")\n",
    "char01 = char.upper()\n",
    "if char01 == \"A\" or \"E\" or \"I\" or \"O\"or \"U\":\n",
    "    print(f\"Letter {char} is a vowel \")\n",
    "else:\n",
    "    print(f\"Letter {char} is not a vowel \")"
   ]
  },
  {
   "cell_type": "code",
   "execution_count": 27,
   "metadata": {},
   "outputs": [
    {
     "name": "stdout",
     "output_type": "stream",
     "text": [
      "Enter the character:  N\n",
      "Letter N is not a vowel \n"
     ]
    }
   ],
   "source": [
    "# sample 03\n",
    "char = input(\"Enter the character:  \")\n",
    "char01 = char.upper()\n",
    "if char01 == (\"A\" or \"E\" or \"I\" or \"O\" or \"U\"):\n",
    "    print(f\"Letter {char} is a vowel \")\n",
    "else:\n",
    "    print(f\"Letter {char} is not a vowel \")"
   ]
  },
  {
   "cell_type": "markdown",
   "metadata": {},
   "source": [
    "## 8. Triangle area\n",
    "### Write a Python program that will accept the base and height of a triangle and compute the area\n",
    "###### Reference:\n",
    "https://www.mathgoodies.com/lessons/vol1/area_triangle"
   ]
  },
  {
   "cell_type": "code",
   "execution_count": 30,
   "metadata": {},
   "outputs": [
    {
     "name": "stdout",
     "output_type": "stream",
     "text": [
      "Enter the base :4\n",
      "Enter the height :5\n",
      "area is 10.0\n"
     ]
    }
   ],
   "source": [
    "b  = int(input(\"Enter the base :\"))\n",
    "h  = int(input(\"Enter the height :\"))\n",
    "ar = (1/2)*b*h\n",
    "print(f\"area is {ar}\")"
   ]
  },
  {
   "cell_type": "markdown",
   "metadata": {},
   "source": [
    "## 9. Calculate Interest\n",
    "### Write a Python program to compute the future value of a specified principal amount, rate of interest, and a number of years\n",
    "#### Program Console Sample 1:\n",
    "##### Please enter principal amount: 10000\n",
    "###### Please Enter Rate of interest in %: 0.1\n",
    "###### Enter number of years for investment: 5\n",
    "###### After 5 years your principal amount 10000 over an interest rate of 0.1 % will be 16105.1"
   ]
  },
  {
   "cell_type": "code",
   "execution_count": 36,
   "metadata": {},
   "outputs": [
    {
     "name": "stdout",
     "output_type": "stream",
     "text": [
      "Enter the principal amount: 10000\n",
      "Enter Rate of Interest in %:0.1\n",
      "Enter # of years: 5\n",
      "After 5 years your principal amount 10050.100100050004 over an interest rate of 0.1 will be 10050.100100050004\n"
     ]
    }
   ],
   "source": [
    "am = int(input(\"Enter the principal amount: \"))\n",
    "rt = float(input(\"Enter Rate of Interest in %:\"))\n",
    "yr = int(input(\"Enter # of years: \"))\n",
    "am = am*(1+ rt/100)**yr\n",
    "print(f\"After {yr} years your principal amount {am} over an interest rate of {rt} will be {am}\")"
   ]
  },
  {
   "cell_type": "markdown",
   "metadata": {},
   "source": [
    "## 10. Euclidean distance\n",
    "### write a Python program to compute the distance between the points (x1, y1) and (x2, y2).\n",
    "#### Program Console Sample 1:\n",
    "###### Enter Co-ordinate for x1: 2\n",
    "###### Enter Co-ordinate for x2: 4\n",
    "###### Enter Co-ordinate for y1: 4\n",
    "###### Enter Co-ordinate for y2: 4\n",
    "###### Distance between points (2, 4) and (4, 4) is 2"
   ]
  },
  {
   "cell_type": "markdown",
   "metadata": {},
   "source": [
    "###### Reference:\n",
    "https://en.wikipedia.org/wiki/Euclidean_distance"
   ]
  },
  {
   "cell_type": "code",
   "execution_count": 37,
   "metadata": {},
   "outputs": [
    {
     "name": "stdout",
     "output_type": "stream",
     "text": [
      "Enter Co-ordinate for x1 :2\n",
      "Enter Co-ordinate for x2 :4\n",
      "Enter Co-ordinate for y1 :4\n",
      "Enter Co-ordinate for y2 :4\n"
     ]
    },
    {
     "data": {
      "text/plain": [
       "2.0"
      ]
     },
     "execution_count": 37,
     "metadata": {},
     "output_type": "execute_result"
    }
   ],
   "source": [
    "x1 = int(input(\"Enter Co-ordinate for x1 :\"))\n",
    "x2 = int(input(\"Enter Co-ordinate for x2 :\"))\n",
    "y1 = int(input(\"Enter Co-ordinate for y1 :\"))\n",
    "y2 = int(input(\"Enter Co-ordinate for y2 :\"))\n",
    "distance = ((x1 - x2)**2 + (y1 -y2)**2)**.5\n",
    "distance"
   ]
  },
  {
   "cell_type": "markdown",
   "metadata": {},
   "source": [
    "## 11. Feet to Centimeter Converter\n",
    "### Write a Python program to convert height in feet to centimetres.\n",
    "##### Program Console Sample 1:\n",
    "###### Enter Height in Feet: 5\n",
    "###### There are 152.4 Cm in 5 ft\n",
    "###### Reference:\n",
    "https://www.rapidtables.com/convert/length/feet-to-cm.html"
   ]
  },
  {
   "cell_type": "code",
   "execution_count": 36,
   "metadata": {},
   "outputs": [
    {
     "name": "stdout",
     "output_type": "stream",
     "text": [
      "Enter the height in feet :5\n",
      "5 ft =  152.4 cm\n"
     ]
    }
   ],
   "source": [
    "heightt = int(input(\"Enter the height in feet :\"))\n",
    "conv = heightt* 30.48\n",
    "print(f\"{heightt} ft =  {conv} cm\")"
   ]
  },
  {
   "cell_type": "markdown",
   "metadata": {},
   "source": [
    "## 12. BMI Calculator\n",
    "### Write a Python program to calculate body mass index\n",
    "##### Program Console Sample 1:\n",
    "###### Enter Height in Cm: 180\n",
    "###### Enter Weight in Kg: 75\n",
    "###### Your BMI is 23.15"
   ]
  },
  {
   "cell_type": "code",
   "execution_count": 32,
   "metadata": {},
   "outputs": [
    {
     "name": "stdout",
     "output_type": "stream",
     "text": [
      "Enter height in cm :180\n",
      "enter weight in kg :75\n"
     ]
    },
    {
     "data": {
      "text/plain": [
       "23.148148148148145"
      ]
     },
     "execution_count": 32,
     "metadata": {},
     "output_type": "execute_result"
    }
   ],
   "source": [
    "height=int(input(\"Enter height in cm :\"))\n",
    "weight = int(input(\"enter weight in kg :\"))\n",
    "bmi = weight/(height/100)**2\n",
    "bmi"
   ]
  },
  {
   "cell_type": "markdown",
   "metadata": {},
   "source": [
    "## 13. Sum of n Positive Integers\n",
    "### Write a python program to sum of the first n positive integers\n",
    "#### Program Console Sample 1:\n",
    "###### Enter value of n: 5\n",
    "###### Sum of n Positive integers till 5 is 15"
   ]
  },
  {
   "cell_type": "code",
   "execution_count": 29,
   "metadata": {},
   "outputs": [
    {
     "name": "stdout",
     "output_type": "stream",
     "text": [
      "Enter the number :5\n",
      "the sum is 15 \n"
     ]
    }
   ],
   "source": [
    "num02 = int(input(\"Enter the number :\"))\n",
    "sum0 = 0;\n",
    "for i in range(0,(num02+1)):\n",
    "    sum0 = sum0 + i\n",
    "print(f\"the sum is {sum0} \")"
   ]
  },
  {
   "cell_type": "markdown",
   "metadata": {},
   "source": [
    "## 14. Digits Sum of a Number\n",
    "### Write a Python program to calculate the sum of the digits in an integer\n",
    "#### Program Console Sample 1:\n",
    "##### Enter a number: 15\n",
    "###### Sum of 1 + 5 is 6\n",
    "#### Program Console Sample 2:\n",
    "##### Enter a number: 1234\n",
    "###### Sum of 1 + 2 + 3 + 4 is 10"
   ]
  },
  {
   "cell_type": "code",
   "execution_count": 23,
   "metadata": {},
   "outputs": [
    {
     "name": "stdout",
     "output_type": "stream",
     "text": [
      "Enter the number :15\n",
      "6\n"
     ]
    }
   ],
   "source": [
    "# sample 01 \n",
    "usr_ip=input(\"Enter the number :\")\n",
    "x=0;\n",
    "for i in usr_ip:\n",
    "    x=x+int(i)\n",
    "print(x)\n",
    "    \n",
    "    \n",
    "    "
   ]
  },
  {
   "cell_type": "code",
   "execution_count": 24,
   "metadata": {},
   "outputs": [
    {
     "name": "stdout",
     "output_type": "stream",
     "text": [
      "Enter the number :1234\n",
      "10\n"
     ]
    }
   ],
   "source": [
    "# sample 01 \n",
    "usr_ip=input(\"Enter the number :\")\n",
    "x=0;\n",
    "for i in usr_ip:\n",
    "    x=x+int(i)\n",
    "print(x)"
   ]
  }
 ],
 "metadata": {
  "kernelspec": {
   "display_name": "Python 3",
   "language": "python",
   "name": "python3"
  },
  "language_info": {
   "codemirror_mode": {
    "name": "ipython",
    "version": 3
   },
   "file_extension": ".py",
   "mimetype": "text/x-python",
   "name": "python",
   "nbconvert_exporter": "python",
   "pygments_lexer": "ipython3",
   "version": "3.7.3"
  }
 },
 "nbformat": 4,
 "nbformat_minor": 2
}
